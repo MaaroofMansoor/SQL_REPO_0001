{
  "nbformat": 4,
  "nbformat_minor": 0,
  "metadata": {
    "colab": {
      "provenance": [],
      "authorship_tag": "ABX9TyNgbrKFvg/NPAdfFlVIs5+9"
    },
    "kernelspec": {
      "name": "python3",
      "display_name": "Python 3"
    },
    "language_info": {
      "name": "python"
    }
  },
  "cells": [
    {
      "cell_type": "code",
      "execution_count": 19,
      "metadata": {
        "colab": {
          "base_uri": "https://localhost:8080/"
        },
        "id": "C2wNxgHqXzvO",
        "outputId": "14e82968-0d1d-4676-fdc4-a86d60c635bd"
      },
      "outputs": [
        {
          "output_type": "stream",
          "name": "stdout",
          "text": [
            "“The world as we have created it is a process of our thinking. It cannot be changed without changing our thinking.”-Albert Einstein\n",
            "“It is our choices, Harry, that show what we truly are, far more than our abilities.”-J.K. Rowling\n",
            "“There are only two ways to live your life. One is as though nothing is a miracle. The other is as though everything is a miracle.”-Albert Einstein\n",
            "“The person, be it gentleman or lady, who has not pleasure in a good novel, must be intolerably stupid.”-Jane Austen\n",
            "“Imperfection is beauty, madness is genius and it's better to be absolutely ridiculous than absolutely boring.”-Marilyn Monroe\n",
            "“Try not to become a man of success. Rather become a man of value.”-Albert Einstein\n",
            "“It is better to be hated for what you are than to be loved for what you are not.”-André Gide\n",
            "“I have not failed. I've just found 10,000 ways that won't work.”-Thomas A. Edison\n",
            "“A woman is like a tea bag; you never know how strong it is until it's in hot water.”-Eleanor Roosevelt\n",
            "“A day without sunshine is like, you know, night.”-Steve Martin\n",
            "“This life is what you make it. No matter what, you're going to mess up sometimes, it's a universal truth. But the good part is you get to decide how you're going to mess it up. Girls will be your friends - they'll act like it anyway. But just remember, some come, some go. The ones that stay with you through everything - they're your true best friends. Don't let go of them. Also remember, sisters make the best friends in the world. As for lovers, well, they'll come and go too. And baby, I hate to say it, most of them - actually pretty much all of them are going to break your heart, but you can't give up because if you give up, you'll never find your soulmate. You'll never find that half who makes you whole and that goes for everything. Just because you fail once, doesn't mean you're gonna fail at everything. Keep trying, hold on, and always, always, always believe in yourself, because if you don't, then who will, sweetie? So keep your head high, keep your chin up, and most importantly, keep smiling, because life's a beautiful thing and there's so much to smile about.”-Marilyn Monroe\n",
            "“It takes a great deal of bravery to stand up to our enemies, but just as much to stand up to our friends.”-J.K. Rowling\n",
            "“If you can't explain it to a six year old, you don't understand it yourself.”-Albert Einstein\n",
            "“You may not be her first, her last, or her only. She loved before she may love again. But if she loves you now, what else matters? She's not perfect—you aren't either, and the two of you may never be perfect together but if she can make you laugh, cause you to think twice, and admit to being human and making mistakes, hold onto her and give her the most you can. She may not be thinking about you every second of the day, but she will give you a part of her that she knows you can break—her heart. So don't hurt her, don't change her, don't analyze and don't expect more than she can give. Smile when she makes you happy, let her know when she makes you mad, and miss her when she's not there.”-Bob Marley\n",
            "“I like nonsense, it wakes up the brain cells. Fantasy is a necessary ingredient in living.”-Dr. Seuss\n",
            "“I may not have gone where I intended to go, but I think I have ended up where I needed to be.”-Douglas Adams\n",
            "“The opposite of love is not hate, it's indifference. The opposite of art is not ugliness, it's indifference. The opposite of faith is not heresy, it's indifference. And the opposite of life is not death, it's indifference.”-Elie Wiesel\n",
            "“It is not a lack of love, but a lack of friendship that makes unhappy marriages.”-Friedrich Nietzsche\n",
            "“Good friends, good books, and a sleepy conscience: this is the ideal life.”-Mark Twain\n",
            "“Life is what happens to us while we are making other plans.”-Allen Saunders\n",
            "“I love you without knowing how, or when, or from where. I love you simply, without problems or pride: I love you in this way because I do not know any other way of loving but this, in which there is no I or you, so intimate that your hand upon my chest is my hand, so intimate that when I fall asleep your eyes close.”-Pablo Neruda\n",
            "“For every minute you are angry you lose sixty seconds of happiness.”-Ralph Waldo Emerson\n",
            "“If you judge people, you have no time to love them.”-Mother Teresa\n",
            "“Anyone who thinks sitting in church can make you a Christian must also think that sitting in a garage can make you a car.”-Garrison Keillor\n",
            "“Beauty is in the eye of the beholder and it may be necessary from time to time to give a stupid or misinformed beholder a black eye.”-Jim Henson\n",
            "“Today you are You, that is truer than true. There is no one alive who is Youer than You.”-Dr. Seuss\n",
            "“If you want your children to be intelligent, read them fairy tales. If you want them to be more intelligent, read them more fairy tales.”-Albert Einstein\n",
            "“It is impossible to live without failing at something, unless you live so cautiously that you might as well not have lived at all - in which case, you fail by default.”-J.K. Rowling\n",
            "“Logic will get you from A to Z; imagination will get you everywhere.”-Albert Einstein\n",
            "“One good thing about music, when it hits you, you feel no pain.”-Bob Marley\n"
          ]
        }
      ],
      "source": [
        "from bs4 import BeautifulSoup\n",
        "import requests\n",
        "\n",
        "# the URL\n",
        "base_url = \"http://quotes.toscrape.com/page/\"\n",
        "\n",
        "# number of pages you want to scrape\n",
        "num_pages = 3\n",
        "\n",
        "# iterate through pages\n",
        "for page_num in range(1, num_pages + 1):\n",
        "    # construct the URL for the current page\n",
        "    page_url = base_url + str(page_num)\n",
        "\n",
        "    # send an HTTP GET request to the current page\n",
        "    page_to_scrape = requests.get(page_url)\n",
        "\n",
        "    # check if the request was successful\n",
        "    if page_to_scrape.status_code == 200:\n",
        "        soup = BeautifulSoup(page_to_scrape.text, 'html.parser')\n",
        "\n",
        "        # get quotes and authors\n",
        "        quotes = soup.findAll('span', attrs={'class': 'text'})\n",
        "        authors = soup.findAll('small', attrs={\"class\": \"author\"})\n",
        "\n",
        "        # iterate through quotes and authors and print them\n",
        "        for quote, author in zip(quotes, authors):\n",
        "             print(f\"{quote.text}-{author.text}\")\n",
        "    else:\n",
        "        print(f\"Failed to retrieve page {page_num}\")"
      ]
    },
    {
      "cell_type": "code",
      "source": [
        "\n",
        "# initialize variables to keep track of the longest and shortest quotes and authors\n",
        "longest_quote = \"\"\n",
        "shortest_quote = \"\"\n",
        "author_of_longest_quote = \"\"\n",
        "author_of_shortest_quote = \"\"\n",
        "\n",
        "# iterate through the first three pages\n",
        "for page_num in range(1, 4):\n",
        "    page_url = f\"http://quotes.toscrape.com/page/{page_num}\"\n",
        "\n",
        "\n",
        "    # iterate through quotes and authors on the current page\n",
        "    for quote, author in zip(quotes, authors):\n",
        "        current_quote = quote.text\n",
        "        current_author = author.text\n",
        "\n",
        "        # check for the longest quote\n",
        "        if len(current_quote) > len(longest_quote):\n",
        "            longest_quote = current_quote\n",
        "            author_of_longest_quote = current_author\n",
        "\n",
        "        # check for the shortest quote\n",
        "        if len(current_quote) < len(shortest_quote) or not shortest_quote:\n",
        "            shortest_quote = current_quote\n",
        "            author_of_shortest_quote = current_author\n",
        "\n",
        "# print the author of the longest quote and the longest quote itself\n",
        "print(\"Author of the longest:\", author_of_longest_quote)\n",
        "print(\"Longest Quote:\", longest_quote)\n",
        "\n",
        "# print the author of the shortest quote and the shortest quote itself\n",
        "print(\"Author of the shortest:\", author_of_shortest_quote)\n",
        "print(\"Shortest Quote:\", shortest_quote)\n"
      ],
      "metadata": {
        "colab": {
          "base_uri": "https://localhost:8080/"
        },
        "id": "yCcu9VE9vclD",
        "outputId": "6a749c4b-a5c6-4550-e4a9-fe2485387fee"
      },
      "execution_count": 23,
      "outputs": [
        {
          "output_type": "stream",
          "name": "stdout",
          "text": [
            "Author of the longest: Marilyn Monroe\n",
            "Longest Quote: “This life is what you make it. No matter what, you're going to mess up sometimes, it's a universal truth. But the good part is you get to decide how you're going to mess it up. Girls will be your friends - they'll act like it anyway. But just remember, some come, some go. The ones that stay with you through everything - they're your true best friends. Don't let go of them. Also remember, sisters make the best friends in the world. As for lovers, well, they'll come and go too. And baby, I hate to say it, most of them - actually pretty much all of them are going to break your heart, but you can't give up because if you give up, you'll never find your soulmate. You'll never find that half who makes you whole and that goes for everything. Just because you fail once, doesn't mean you're gonna fail at everything. Keep trying, hold on, and always, always, always believe in yourself, because if you don't, then who will, sweetie? So keep your head high, keep your chin up, and most importantly, keep smiling, because life's a beautiful thing and there's so much to smile about.”\n",
            "Author of the shortest: Allen Saunders\n",
            "Shortest Quote: “Life is what happens to us while we are making other plans.”\n"
          ]
        }
      ]
    },
    {
      "cell_type": "code",
      "source": [
        "\n",
        "# initialize a list to store Albert Einstein quotes\n",
        "einstein_quotes = []\n",
        "\n",
        "# iterate through the first three pages\n",
        "for page_num in range(1, 4):\n",
        "    page_url = f\"http://quotes.toscrape.com/page/{page_num}\"\n",
        "    quotes, authors = scrape_quotes_from_page(page_url)\n",
        "\n",
        "    # iterate through quotes and authors on the current page\n",
        "    for quote, author in zip(quotes, authors):\n",
        "        current_quote = quote.text\n",
        "        current_author = author.text\n",
        "\n",
        "        # check if the current quote is by Albert Einstein\n",
        "        if current_author == \"Albert Einstein\":\n",
        "            einstein_quotes.append(current_quote)\n",
        "\n",
        "# print Albert Einstein quotes\n",
        "for i, quote in enumerate(einstein_quotes, start=1):\n",
        "    print(f\"Quote {i}: {quote}\")"
      ],
      "metadata": {
        "colab": {
          "base_uri": "https://localhost:8080/"
        },
        "id": "2DOji-gewNLj",
        "outputId": "1ae17ac2-465a-494d-b527-fe9333495e35"
      },
      "execution_count": 21,
      "outputs": [
        {
          "output_type": "stream",
          "name": "stdout",
          "text": [
            "Quote 1: “The world as we have created it is a process of our thinking. It cannot be changed without changing our thinking.”\n",
            "Quote 2: “There are only two ways to live your life. One is as though nothing is a miracle. The other is as though everything is a miracle.”\n",
            "Quote 3: “Try not to become a man of success. Rather become a man of value.”\n",
            "Quote 4: “If you can't explain it to a six year old, you don't understand it yourself.”\n",
            "Quote 5: “If you want your children to be intelligent, read them fairy tales. If you want them to be more intelligent, read them more fairy tales.”\n",
            "Quote 6: “Logic will get you from A to Z; imagination will get you everywhere.”\n"
          ]
        }
      ]
    },
    {
      "cell_type": "code",
      "source": [
        "\n",
        "# initialize variables to store the first \"book\" quote and author\n",
        "first_book_quote = None\n",
        "author_of_first_book_quote = None\n",
        "\n",
        "# iterate through the first three pages\n",
        "for page_num in range(1, 4):\n",
        "    page_url = f\"http://quotes.toscrape.com/page/{page_num}\"\n",
        "    quotes, authors = scrape_quotes_from_page(page_url)\n",
        "\n",
        "    # iterate through quotes and authors on the current page\n",
        "    for quote, author in zip(quotes, authors):\n",
        "        current_quote = quote.text\n",
        "        current_author = author.text\n",
        "\n",
        "        # check if the current quote contains the word \"book\"\n",
        "        if \"book\" in current_quote.lower():\n",
        "            first_book_quote = current_quote\n",
        "            author_of_first_book_quote = current_author\n",
        "            break  # Exit the loop once the first \"book\" quote is found\n",
        "\n",
        "    # if a \"book\" quote is found, exit the outer loop as well\n",
        "    if first_book_quote:\n",
        "        break\n",
        "\n",
        "# print the first \"book\" quote and its author, if found\n",
        "if first_book_quote:\n",
        "    print(\"Author:\", author_of_first_book_quote)\n",
        "    print(\"First:\", first_book_quote)\n",
        "else:\n",
        "    print(\"No quotes containing 'book' were found in the first three pages.\")"
      ],
      "metadata": {
        "colab": {
          "base_uri": "https://localhost:8080/"
        },
        "id": "LgAFBYs1yXfm",
        "outputId": "dfb29033-7839-4557-a490-c1eddd3ad500"
      },
      "execution_count": 22,
      "outputs": [
        {
          "output_type": "stream",
          "name": "stdout",
          "text": [
            "Author: Mark Twain\n",
            "First: “Good friends, good books, and a sleepy conscience: this is the ideal life.”\n"
          ]
        }
      ]
    }
  ]
}